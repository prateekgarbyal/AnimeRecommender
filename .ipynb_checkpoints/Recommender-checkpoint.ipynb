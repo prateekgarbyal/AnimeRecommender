{
 "cells": [
  {
   "cell_type": "markdown",
   "metadata": {},
   "source": [
    "We store the data files, precomputed similarity matrix, cleaned and super cleaned ratings"
   ]
  },
  {
   "cell_type": "code",
   "execution_count": 1,
   "metadata": {
    "collapsed": false
   },
   "outputs": [],
   "source": [
    "import math\n",
    "import sys\n",
    "import csv\n",
    "import itertools\n",
    "import collections\n",
    "from scipy import spatial\n",
    "\n",
    "with open('anime.csv', 'r') as f:\n",
    "    reader = csv.reader(f)\n",
    "    anime_list = list(reader)\n",
    "del anime_list[0]\n",
    "\n",
    "with open('similarity.csv', 'r') as f:\n",
    "    reader = csv.reader(f)\n",
    "    similarity = list(reader)\n",
    "\n",
    "with open('supercleanedratings.csv', 'r') as f:\n",
    "    reader = csv.reader(f)\n",
    "    rating_list = list(reader)\n",
    "\n",
    "with open('cleanedratings.csv', 'r') as f:\n",
    "    reader = csv.reader(f)\n",
    "    watched_list = list(reader)\n",
    "\n",
    "animeid=[]\n",
    "for x in range(0,len(anime_list)):\n",
    "    animeid.append(int(anime_list[x][0]))\n",
    "\n",
    "array=[-1]*36000\n",
    "#print(array)\n",
    "for x in range (0,len(animeid)):\n",
    "    array[animeid[x]]=x"
   ]
  },
  {
   "cell_type": "markdown",
   "metadata": {},
   "source": [
    "Since the similarity matrix is in char format, we convert it to floating point integer. We then ask for userid input for which we will calculate the recommendations in real time."
   ]
  },
  {
   "cell_type": "code",
   "execution_count": 2,
   "metadata": {
    "collapsed": false
   },
   "outputs": [
    {
     "name": "stdout",
     "output_type": "stream",
     "text": [
      "Enter User number you want Recommendations for765\n"
     ]
    }
   ],
   "source": [
    "for x in range (0,len(similarity)):\n",
    "    for y in range(0,len(similarity[x])):\n",
    "        similarity[x][y]=float(similarity[x][y])\n",
    "\n",
    "#print(similarity[0])\n",
    "#userid = 765\n",
    "userid=input(\"Enter User number you want Recommendations for\")\n",
    "userid=int(userid)"
   ]
  },
  {
   "cell_type": "markdown",
   "metadata": {},
   "source": [
    "Now for the userid entered, we take the 11 top similar user similarities(sort it in reverse)"
   ]
  },
  {
   "cell_type": "code",
   "execution_count": 3,
   "metadata": {
    "collapsed": false
   },
   "outputs": [
    {
     "name": "stdout",
     "output_type": "stream",
     "text": [
      "[1.0, 0.210534098777, 0.184107537317, 0.170378026874, 0.169791267326, 0.166456987892, 0.164090826759, 0.157253525487, 0.156516457499, 0.153297958867, 0.15067276402]\n"
     ]
    }
   ],
   "source": [
    "temp=[i for i in sorted(similarity[userid-1],reverse=True)][:11]\n",
    "#list(similarity[userid-1])\n",
    "#print(temp)"
   ]
  },
  {
   "cell_type": "markdown",
   "metadata": {},
   "source": [
    "We then search for the index(userid) for those similarities in the similarity matrix. We also remove the (userid,userid) row because userid is obviously similar to itself "
   ]
  },
  {
   "cell_type": "code",
   "execution_count": 4,
   "metadata": {
    "collapsed": false
   },
   "outputs": [
    {
     "name": "stdout",
     "output_type": "stream",
     "text": [
      "[152, 517, 808, 109, 357, 420, 26, 704, 849, 283]\n",
      "[152, 517, 808, 109, 357, 420, 26, 704, 849, 283]\n"
     ]
    }
   ],
   "source": [
    "closestid=[]\n",
    "for x in range(0,len(temp)):\n",
    "    for y in range(0,len(similarity[userid-1])):\n",
    "        if temp[x]==similarity[userid-1][y]:\n",
    "            closestid.append(y)\n",
    "#if similarity[userid-1][i] in temp:\n",
    "#closestid.append(i)\n",
    "closestid.remove(userid-1)\n",
    "#print(closestid)\n",
    "unique = []\n",
    "[unique.append(item) for item in closestid if item not in unique]\n",
    "closestid=unique\n",
    "#print(closestid)"
   ]
  },
  {
   "cell_type": "markdown",
   "metadata": {},
   "source": [
    "We now Initialize the ratings matrix and fill it with super cleaned ratings(only watched and rated )"
   ]
  },
  {
   "cell_type": "code",
   "execution_count": 5,
   "metadata": {
    "collapsed": false
   },
   "outputs": [],
   "source": [
    "ratingsmatrix = [[-2]*len(anime_list) for _ in range(1000)]\n",
    "for x in range (0,len(rating_list)):\n",
    "    row=int(rating_list[x][0])-1\n",
    "    column=int(rating_list[x][1])\n",
    "    ratingsmatrix[row][column]=int(rating_list[x][2])"
   ]
  },
  {
   "cell_type": "markdown",
   "metadata": {},
   "source": [
    "For the above matrix, we take the collection of top 10 anime rated by each of these users"
   ]
  },
  {
   "cell_type": "code",
   "execution_count": 6,
   "metadata": {
    "collapsed": false
   },
   "outputs": [],
   "source": [
    "topanime=[]\n",
    "for x in range(0,len(closestid)):\n",
    "    topanime.append(sorted(range(len(ratingsmatrix[closestid[x]])), key=lambda i: ratingsmatrix[closestid[x]][i], reverse=True)[:10])\n",
    "#print(topanime)\n",
    "mergedtop = list(itertools.chain.from_iterable(topanime))\n",
    "#print(mergedtop)"
   ]
  },
  {
   "cell_type": "markdown",
   "metadata": {},
   "source": [
    "We also store the watchlist i.e. both watched and rated, watched and unrated anime for the entered user."
   ]
  },
  {
   "cell_type": "code",
   "execution_count": 7,
   "metadata": {
    "collapsed": false
   },
   "outputs": [],
   "source": [
    "watched=[]\n",
    "for x in range(0,len(watched_list)):\n",
    "    if int(watched_list[x][0])==userid:\n",
    "        watched.append(int(watched_list[x][1]))\n",
    "#print(watched)"
   ]
  },
  {
   "cell_type": "markdown",
   "metadata": {},
   "source": [
    "Now we remove the anime which the user has already watched from the collection of anime from similar users. We get the unwatched recommendations."
   ]
  },
  {
   "cell_type": "code",
   "execution_count": 8,
   "metadata": {
    "collapsed": false
   },
   "outputs": [],
   "source": [
    "#print(watched)\n",
    "notwatched = [x for x in mergedtop if x not in watched]\n",
    "#print(notwatched)\n",
    "counts = collections.Counter(notwatched)\n",
    "new_list = sorted(notwatched, key=counts.get, reverse=True)\n",
    "#print(new_list)\n",
    "finalreco=[]\n",
    "for x in range(0,len(new_list)):\n",
    "    if new_list[x] not in finalreco:\n",
    "        finalreco.append(new_list[x])\n",
    "#print(finalreco)"
   ]
  },
  {
   "cell_type": "markdown",
   "metadata": {},
   "source": [
    "We get the set of genres of all the anime."
   ]
  },
  {
   "cell_type": "code",
   "execution_count": 9,
   "metadata": {
    "collapsed": false
   },
   "outputs": [],
   "source": [
    "animetyp=[]\n",
    "for x in range (0,len(anime_list)):\n",
    "    animetyp.append(anime_list[x][2].split(\",\"))\n",
    "merged = list(itertools.chain.from_iterable(animetyp))\n",
    "#print(len(merged))\n",
    "animetyp=list(set(merged))\n",
    "#print(len(animetyp))\n",
    "#print(animetyp)"
   ]
  },
  {
   "cell_type": "markdown",
   "metadata": {},
   "source": [
    "There are 83 types of genres of anime. We now build a profile vector for top 5 anime rated by the user.(the profile consists of the genres of the top 5 rated anime)"
   ]
  },
  {
   "cell_type": "code",
   "execution_count": 10,
   "metadata": {
    "collapsed": false
   },
   "outputs": [],
   "source": [
    "top=[]\n",
    "top.append(sorted(range(len(ratingsmatrix[userid-1])), key=lambda i: ratingsmatrix[userid-1][i], reverse=True)[:5])\n",
    "#print(top)\n",
    "top=top[0]\n",
    "#print(top)"
   ]
  },
  {
   "cell_type": "markdown",
   "metadata": {},
   "source": [
    "Now we build a top anime profile for the user, consisting of the genres of the top 5 anime he has rated"
   ]
  },
  {
   "cell_type": "code",
   "execution_count": 11,
   "metadata": {
    "collapsed": false
   },
   "outputs": [],
   "source": [
    "topprofile=[]\n",
    "for x in range(0,len(top)):\n",
    "    a = (anime_list[top[x]][2].replace(\" \", \"\").split(\",\"))\n",
    "    #print (a)\n",
    "    #topprofile.append(anime_list[top[x]][2])\n",
    "    topprofile.append(a)\n",
    "#print(topprofile)\n",
    "\n",
    "flattend = list(itertools.chain.from_iterable(topprofile))\n",
    "flattend=list(set(flattend))\n",
    "#print(flattend)\n",
    "#print(finalreco)"
   ]
  },
  {
   "cell_type": "markdown",
   "metadata": {},
   "source": [
    "Now we see how many missing features each of the anime in the collection have when compared to this profile feature vector. This is the scoring criteria. Lower score means better match. An anime from the recommendation collection which has all its features in the user profile will get the highest score of 0."
   ]
  },
  {
   "cell_type": "code",
   "execution_count": 12,
   "metadata": {
    "collapsed": false
   },
   "outputs": [],
   "source": [
    "scores=[]\n",
    "\n",
    "for x in range(0,len(finalreco)):\n",
    "    scores.append(len(list(set(anime_list[finalreco[x]][2].replace(\" \", \"\").split(\",\")) - set(flattend))))\n",
    "#print(scores)\n",
    "#print(finalreco)"
   ]
  },
  {
   "cell_type": "markdown",
   "metadata": {},
   "source": [
    "Now we sort according to the scores. lower score anime gets preference(Moved to the front)."
   ]
  },
  {
   "cell_type": "code",
   "execution_count": 13,
   "metadata": {
    "collapsed": false
   },
   "outputs": [],
   "source": [
    "finalreco=[x for (y,x) in sorted(zip(scores,finalreco))]\n",
    "#print(finalreco)"
   ]
  },
  {
   "cell_type": "markdown",
   "metadata": {},
   "source": [
    "We output top 5 anime watched by the user."
   ]
  },
  {
   "cell_type": "code",
   "execution_count": 14,
   "metadata": {
    "collapsed": false
   },
   "outputs": [
    {
     "name": "stdout",
     "output_type": "stream",
     "text": [
      "TOP 5 ANIME WATCHED BY THE USER:\n",
      "Code Geass: Hangyaku no Lelouch R2\n",
      "Code Geass: Hangyaku no Lelouch\n",
      "Shingeki no Kyojin\n",
      "Psycho-Pass\n",
      "Mirai Nikki (TV)\n"
     ]
    }
   ],
   "source": [
    "print(\"TOP 5 ANIME WATCHED BY THE USER:\")\n",
    "for x in range(0,len(top)):\n",
    "    print(anime_list[top[x]][1])"
   ]
  },
  {
   "cell_type": "markdown",
   "metadata": {},
   "source": [
    "We output the recommendations with the best scores first."
   ]
  },
  {
   "cell_type": "code",
   "execution_count": 15,
   "metadata": {
    "collapsed": false
   },
   "outputs": [
    {
     "name": "stdout",
     "output_type": "stream",
     "text": [
      "RECOMMENDED ANIME:\n",
      "Re:Zero kara Hajimeru Isekai Seikatsu\n",
      "Evangelion: 2.0 You Can (Not) Advance\n",
      "Evangelion: 1.0 You Are (Not) Alone\n",
      "Mirai Nikki Redial\n",
      "Ao no Exorcist: Ura Ex\n",
      "Ano Hi Mita Hana no Namae wo Bokutachi wa Mada Shiranai.\n",
      "Hunter x Hunter\n",
      "Angel Beats!\n",
      "Kill la Kill\n",
      "Black Lagoon: Roberta&#039;s Blood Trail\n",
      "Bleach\n",
      "Ao no Exorcist\n",
      "Ao no Exorcist Movie\n",
      "Ao no Exorcist: Kuro no Iede\n",
      "Fullmetal Alchemist: Brotherhood\n",
      "Clannad: After Story\n",
      "Tengen Toppa Gurren Lagann\n",
      "Howl no Ugoku Shiro\n",
      "Kuroko no Basket 2nd Season\n",
      "Kino no Tabi: The Beautiful World\n",
      "Nanatsu no Taizai\n",
      "Saint Seiya: The Lost Canvas - Meiou Shinwa 2\n",
      "Danshi Koukousei no Nichijou\n",
      "Saint Seiya: The Lost Canvas - Meiou Shinwa\n",
      "Yahari Ore no Seishun Love Comedy wa Machigatteiru.\n",
      "Baka to Test to Shoukanjuu\n",
      "Densetsu no Yuusha no Densetsu\n",
      "Naruto\n",
      "Inu x Boku SS\n",
      "Afro Samurai Movie\n",
      "Afro Samurai: Resurrection\n",
      "Highschool of the Dead\n",
      "Afro Samurai\n",
      "Ao no Exorcist Movie Special\n",
      "Stranger: Mukou Hadan\n",
      "Sakurasou no Pet na Kanojo\n",
      "Ookami to Koushinryou\n",
      "Fullmetal Alchemist\n",
      "Fairy Tail (2014)\n",
      "Fairy Tail\n",
      "Oda Nobuna no Yabou\n",
      "Air Gear\n",
      "No Game No Life\n",
      "To LOVE-Ru Darkness\n",
      "Zero no Tsukaima F\n",
      "Ore no Imouto ga Konnani Kawaii Wake ga Nai. Specials\n",
      "Zero no Tsukaima: Futatsuki no Kishi\n",
      "Zero no Tsukaima\n"
     ]
    }
   ],
   "source": [
    "print(\"RECOMMENDED ANIME:\")\n",
    "for x in range(0,len(finalreco)):\n",
    "    print(anime_list[finalreco[x]][1])"
   ]
  }
 ],
 "metadata": {
  "kernelspec": {
   "display_name": "Python 3",
   "language": "python",
   "name": "python3"
  },
  "language_info": {
   "codemirror_mode": {
    "name": "ipython",
    "version": 3
   },
   "file_extension": ".py",
   "mimetype": "text/x-python",
   "name": "python",
   "nbconvert_exporter": "python",
   "pygments_lexer": "ipython3",
   "version": "3.6.0"
  }
 },
 "nbformat": 4,
 "nbformat_minor": 2
}
