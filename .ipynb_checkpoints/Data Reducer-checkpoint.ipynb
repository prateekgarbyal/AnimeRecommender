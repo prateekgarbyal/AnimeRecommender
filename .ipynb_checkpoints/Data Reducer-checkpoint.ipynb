{
 "cells": [
  {
   "cell_type": "markdown",
   "metadata": {},
   "source": [
    "This code reduces the data for demonstration purposes. Since precomputation takes a lot of time(Generates a file of 1.92gb) for all users. We use 1000 users for fast demonstration(25mb)."
   ]
  },
  {
   "cell_type": "code",
   "execution_count": 1,
   "metadata": {
    "collapsed": true
   },
   "outputs": [],
   "source": [
    "import math\n",
    "import sys\n",
    "import csv\n",
    "\n",
    "with open('rating.csv', 'r') as f:\n",
    "    reader = csv.reader(f)\n",
    "    rating_list = list(reader)\n",
    "del rating_list[0]\n",
    "\n",
    "updated=[]\n",
    "for x in range(0,len(rating_list)):\n",
    "    if int(rating_list[x][0])<=1000:\n",
    "        updated.append(rating_list[x])"
   ]
  },
  {
   "cell_type": "markdown",
   "metadata": {},
   "source": [
    "Output the reduced user ratings file"
   ]
  },
  {
   "cell_type": "code",
   "execution_count": 2,
   "metadata": {
    "collapsed": false
   },
   "outputs": [],
   "source": [
    "with open(\"reducedratings.csv\", \"w\") as f:\n",
    "    writer = csv.writer(f)\n",
    "    writer.writerows(updated)"
   ]
  }
 ],
 "metadata": {
  "kernelspec": {
   "display_name": "Python 3",
   "language": "python",
   "name": "python3"
  },
  "language_info": {
   "codemirror_mode": {
    "name": "ipython",
    "version": 3
   },
   "file_extension": ".py",
   "mimetype": "text/x-python",
   "name": "python",
   "nbconvert_exporter": "python",
   "pygments_lexer": "ipython3",
   "version": "3.6.0"
  }
 },
 "nbformat": 4,
 "nbformat_minor": 2
}
