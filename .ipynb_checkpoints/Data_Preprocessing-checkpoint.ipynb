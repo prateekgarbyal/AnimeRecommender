{
 "cells": [
  {
   "cell_type": "markdown",
   "metadata": {},
   "source": [
    "First we store anime data in a list, and then we create a list of anime id, since we will need to map the address of the anime id to the ratings matrix"
   ]
  },
  {
   "cell_type": "code",
   "execution_count": 1,
   "metadata": {
    "collapsed": false,
    "scrolled": true
   },
   "outputs": [],
   "source": [
    "import math\n",
    "import sys\n",
    "import csv\n",
    "#import numpy as np\n",
    "\n",
    "with open('anime.csv', 'r') as f:\n",
    "    reader = csv.reader(f)\n",
    "    anime_list = list(reader)\n",
    "del anime_list[0]\n",
    "\n",
    "animeid=[]\n",
    "for x in range(0,len(anime_list)):\n",
    "    animeid.append(int(anime_list[x][0]))\n",
    "#print(animeid)\n",
    "#print(max(animeid))\n",
    "#print(animeid[1709])\n",
    "#print(anime_list[1709][0])\n",
    "with open('reducedratings.csv', 'r') as f:\n",
    "    reader = csv.reader(f)\n",
    "    rating_list = list(reader)\n",
    "#del rating_list[0]"
   ]
  },
  {
   "cell_type": "markdown",
   "metadata": {},
   "source": [
    "Mapping animeid to the ratings matrix address by searching for all the anime id in the rating file was computationaly exepensive(hours just to map animeid to matrix address) so we came up with another way to do that which takes several seconds. We created a list with 36000 length(bigger than the max anime id) and initialized it to -1. We then use the anime id as address and filled that list address with the address of the anime id"
   ]
  },
  {
   "cell_type": "code",
   "execution_count": 2,
   "metadata": {
    "collapsed": false
   },
   "outputs": [],
   "source": [
    "array=[-1]*36000\n",
    "#print(array)\n",
    "for x in range (0,len(animeid)):\n",
    "    array[animeid[x]]=x\n",
    "#print(array)"
   ]
  },
  {
   "cell_type": "markdown",
   "metadata": {},
   "source": [
    "Now we remove the anime data which the user watched but not rated(because unrated anime is not required). This will help us further reduce computation time."
   ]
  },
  {
   "cell_type": "code",
   "execution_count": 3,
   "metadata": {
    "collapsed": false
   },
   "outputs": [],
   "source": [
    "rating_list = [[int(j) for j in i] for i in rating_list]\n",
    "temp=[]\n",
    "for x in range(0, len(rating_list)):\n",
    "    if rating_list[x][2]!=-1:\n",
    "        temp.append(rating_list[x])"
   ]
  },
  {
   "cell_type": "markdown",
   "metadata": {},
   "source": [
    "Now we traverse the cleaned ratings list and store the anime address from the list we created above. This will enables us to map ratings matrix address to anime id in seconds and not hours."
   ]
  },
  {
   "cell_type": "code",
   "execution_count": 4,
   "metadata": {
    "collapsed": false
   },
   "outputs": [],
   "source": [
    "for x in range(0, len(rating_list)):\n",
    "    rating_list[x][1]=array[rating_list[x][1]]\n",
    "#print(rating_list[:20])"
   ]
  },
  {
   "cell_type": "markdown",
   "metadata": {},
   "source": [
    "We output the cleaned ratings in a csv file"
   ]
  },
  {
   "cell_type": "code",
   "execution_count": 5,
   "metadata": {
    "collapsed": false
   },
   "outputs": [],
   "source": [
    "with open(\"cleanedratings.csv\", \"w\") as f:\n",
    "    writer = csv.writer(f)\n",
    "    writer.writerows(rating_list)"
   ]
  },
  {
   "cell_type": "markdown",
   "metadata": {},
   "source": [
    "We output the super cleaned ratings(only watched and rated) to a csv file"
   ]
  },
  {
   "cell_type": "code",
   "execution_count": 6,
   "metadata": {
    "collapsed": true
   },
   "outputs": [],
   "source": [
    "with open(\"supercleanedratings.csv\", \"w\") as f:\n",
    "    writer = csv.writer(f)\n",
    "    writer.writerows(temp)"
   ]
  }
 ],
 "metadata": {
  "kernelspec": {
   "display_name": "Python 3",
   "language": "python",
   "name": "python3"
  },
  "language_info": {
   "codemirror_mode": {
    "name": "ipython",
    "version": 3
   },
   "file_extension": ".py",
   "mimetype": "text/x-python",
   "name": "python",
   "nbconvert_exporter": "python",
   "pygments_lexer": "ipython3",
   "version": "3.6.0"
  }
 },
 "nbformat": 4,
 "nbformat_minor": 2
}
