{
 "cells": [
  {
   "cell_type": "markdown",
   "metadata": {},
   "source": [
    "We import scipy package for cosine similarity computation, read the anime and cleaned ratings data files."
   ]
  },
  {
   "cell_type": "code",
   "execution_count": null,
   "metadata": {
    "collapsed": false
   },
   "outputs": [],
   "source": [
    "import math\n",
    "import sys\n",
    "import csv\n",
    "from scipy import spatial\n",
    "#import numpy as np\n",
    "\n",
    "with open('anime.csv', 'r') as f:\n",
    "    reader = csv.reader(f)\n",
    "    anime_list = list(reader)\n",
    "del anime_list[0]\n",
    "\n",
    "with open('cleanedratings.csv', 'r') as f:\n",
    "    reader = csv.reader(f)\n",
    "    rating_list = list(reader)\n",
    "#del rating_list[0]\n",
    "#print(rating_list[:20])"
   ]
  },
  {
   "cell_type": "markdown",
   "metadata": {},
   "source": [
    "Initialize ratingsmatrix with -2 (not watched and not rated)"
   ]
  },
  {
   "cell_type": "code",
   "execution_count": null,
   "metadata": {
    "collapsed": false
   },
   "outputs": [],
   "source": [
    "ratingsmatrix = [[-2]*len(anime_list) for _ in range(1000)]\n",
    "#print(len(ratingsmatrix[100]))\n",
    "#print(ratingsmatrix[0])\n",
    "#print(ratingsmatrix[0][0])"
   ]
  },
  {
   "cell_type": "markdown",
   "metadata": {},
   "source": [
    "Fill the Ratings Matrix with the ratings list. The users represent the rows in the Ratings Matrix and the movies are the columns. (userid-1) represents the corresponding user row. "
   ]
  },
  {
   "cell_type": "code",
   "execution_count": null,
   "metadata": {
    "collapsed": false
   },
   "outputs": [],
   "source": [
    "#print(ratingsmatrix[0][0])\n",
    "count=0\n",
    "for x in range (0,len(rating_list)):\n",
    "    row=int(rating_list[x][0])-1\n",
    "    column=int(rating_list[x][1])\n",
    "    ratingsmatrix[row][column]=int(rating_list[x][2])\n",
    "    #print(row)\n",
    "    #print(column)\n",
    "#print(count)\n",
    "#print((ratingsmatrix[0]))"
   ]
  },
  {
   "cell_type": "markdown",
   "metadata": {},
   "source": [
    "We now find the average of the rated animes and store it in average list"
   ]
  },
  {
   "cell_type": "code",
   "execution_count": null,
   "metadata": {
    "collapsed": false
   },
   "outputs": [],
   "source": [
    "average=[]\n",
    "for x in range (0,len(ratingsmatrix)):\n",
    "    count=0\n",
    "    avg=0\n",
    "    for y in ratingsmatrix[x]:\n",
    "        if y!=-1 and y!=-2:\n",
    "            avg=avg+y\n",
    "            count=count+1\n",
    "    if count==0:\n",
    "        average.append(0)\n",
    "    else:\n",
    "        average.append(avg/count)"
   ]
  },
  {
   "cell_type": "markdown",
   "metadata": {},
   "source": [
    "Now we normalize the user ratings around 0 because some users are hard raters and some are soft raters. To do that we take the average of all ratings and substract the average from each rating."
   ]
  },
  {
   "cell_type": "code",
   "execution_count": null,
   "metadata": {
    "collapsed": false
   },
   "outputs": [],
   "source": [
    "for x in range (0,len(ratingsmatrix)):\n",
    "    for y in range (0,len(ratingsmatrix[x])):\n",
    "        if ratingsmatrix[x][y]!=-2 and ratingsmatrix[x][y]!=-1:\n",
    "            ratingsmatrix[x][y]=ratingsmatrix[x][y]-average[x]"
   ]
  },
  {
   "cell_type": "markdown",
   "metadata": {},
   "source": [
    "Anime which has been watched but not rated(the value -1) is given a value slightly above the average user rating (0 after normalization). We did this because from our data analysis we can conclude that most users only rate anime they like. They usually dont rate average anime. We are also doing this because it will cause the unrated watched anime to atleast have some effect on the recommendation, since it is the users preference. If we don't do this, there would be no difference between watched unrated anime and unwatched anime."
   ]
  },
  {
   "cell_type": "markdown",
   "metadata": {},
   "source": [
    "Hence after normalization, unwatched anime (-2) is treated as average rated anime (zero since we have normalized around 0) and watched unrated anime is given a value slightly above the average(0.1)"
   ]
  },
  {
   "cell_type": "code",
   "execution_count": null,
   "metadata": {
    "collapsed": false
   },
   "outputs": [],
   "source": [
    "for x in range(0,len(ratingsmatrix)):\n",
    "    for y in range (0,len(ratingsmatrix[x])):\n",
    "        #print(rrow,rcol)\n",
    "        if ratingsmatrix[x][y]==-2:\n",
    "            ratingsmatrix[x][y]=0\n",
    "        elif ratingsmatrix[x][y]==-1:\n",
    "            ratingsmatrix[x][y]=0.1\n",
    "        else:\n",
    "            ratingsmatrix[x][y]= ratingsmatrix[x][y]+0.1\n",
    "#print(x)"
   ]
  },
  {
   "cell_type": "markdown",
   "metadata": {},
   "source": [
    "Similarity matrix is a User x User matrix with the corresponding similarities as the cell values. We initialize it with -2.\n",
    "We then calculate the cosine similarities between the user vectors and fill the cell values."
   ]
  },
  {
   "cell_type": "code",
   "execution_count": null,
   "metadata": {
    "collapsed": false,
    "scrolled": true
   },
   "outputs": [],
   "source": [
    "similaritymatrix = [[-2]*1000 for _ in range(1000)]\n",
    "\n",
    "for x in range(0,len(ratingsmatrix)):\n",
    "    for y in range(0,len(ratingsmatrix)):\n",
    "        if similaritymatrix[x][y]==-2:\n",
    "            if x==y:\n",
    "                similaritymatrix[x][y]=1\n",
    "            else:\n",
    "                result=1 - spatial.distance.cosine(ratingsmatrix[x], ratingsmatrix[y])\n",
    "                similaritymatrix[x][y]=result\n",
    "                similaritymatrix[y][x]=result\n",
    "    #print(x)\n",
    "#print(result)"
   ]
  },
  {
   "cell_type": "markdown",
   "metadata": {},
   "source": [
    "Output the similarity matrix as a file. We precompute and store it so that recommendations can be done in real time"
   ]
  },
  {
   "cell_type": "code",
   "execution_count": null,
   "metadata": {
    "collapsed": true
   },
   "outputs": [],
   "source": [
    "with open(\"similarity.csv\", \"w\") as f:\n",
    "    writer = csv.writer(f)\n",
    "    writer.writerows(similaritymatrix)"
   ]
  }
 ],
 "metadata": {
  "kernelspec": {
   "display_name": "Python 3",
   "language": "python",
   "name": "python3"
  },
  "language_info": {
   "codemirror_mode": {
    "name": "ipython",
    "version": 3
   },
   "file_extension": ".py",
   "mimetype": "text/x-python",
   "name": "python",
   "nbconvert_exporter": "python",
   "pygments_lexer": "ipython3",
   "version": "3.6.0"
  }
 },
 "nbformat": 4,
 "nbformat_minor": 2
}
